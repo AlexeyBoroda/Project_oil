{
 "cells": [
  {
   "cell_type": "markdown",
   "id": "e55843ac-0796-4aa5-85af-a8c44b6abc8f",
   "metadata": {},
   "source": [
    "# Выбор локации для скважины"
   ]
  },
  {
   "cell_type": "markdown",
   "id": "626c6221-a814-4eae-a046-6b733b79b8d4",
   "metadata": {},
   "source": [
    "**1. Цель исследования:**\n",
    "Цель исследования — выбрать наиболее подходящий регион для разработки нефтяных скважин. Необходимо построить модель машинного обучения, которая сможет предсказать объём нефти в каждой скважине, и провести анализ потенциальной прибыли и рисков, связанных с разработкой каждого региона. Основная задача заключается в выборе региона, который принесёт максимальную прибыль при минимальном риске.\n",
    "\n",
    "**2. План исследования:**\n",
    "1. **Загрузка и подготовка данных**:\n",
    "   - Загрузить данные по трём регионам.\n",
    "   - Разделить данные на обучающую и валидационную выборки в пропорции 75:25.\n",
    "   \n",
    "2. **Обучение модели для каждого региона**:\n",
    "   - Обучить модель линейной регрессии на каждом регионе.\n",
    "   - Провести предсказания на валидационной выборке и сохранить результаты.\n",
    "   - Оценить качество модели по среднему значению предсказаний и метрике RMSE.\n",
    "   \n",
    "3. **Подготовка к расчёту прибыли**:\n",
    "   - Рассчитать минимальный объём нефти для безубыточной разработки.\n",
    "   - Сравнить средний объём нефти в каждом регионе с безубыточным уровнем.\n",
    "   \n",
    "4. **Расчёт прибыли**:\n",
    "   - Выбрать 200 скважин с максимальными прогнозами объёмов нефти для каждого региона.\n",
    "   - Рассчитать суммарный объём нефти и прибыль для каждой группы скважин.\n",
    "   \n",
    "5. **Анализ рисков**:\n",
    "   - Применить технику Bootstrap для оценки распределения прибыли и рисков.\n",
    "   - Определить среднюю прибыль, доверительный интервал и вероятность убытков.\n",
    "   \n",
    "6. **Вывод**:\n",
    "   - Сделать заключение о выборе региона с наибольшей средней прибылью и минимальными рисками.\n",
    "\n",
    "**3. Шаги для выбора локации:**\n",
    "1. Собрать данные о характеристиках скважин в каждом регионе (качество нефти и объём запасов).\n",
    "2. Построить модель для предсказания объёма запасов нефти.\n",
    "3. Выбрать 200 скважин с наибольшими прогнозируемыми объёмами.\n",
    "4. Рассчитать суммарную прибыль от выбранных скважин.\n",
    "5. Проанализировать риски и определить регион с наибольшей потенциальной прибылью.\n",
    "\n",
    "**4. Условия задачи:**\n",
    "1. Для обучения модели используется только линейная регрессия.\n",
    "2. В каждом регионе исследуется 500 скважин, из которых выбирается 200 для разработки.\n",
    "3. Бюджет на разработку составляет 10 миллиардов рублей.\n",
    "4. Прибыль с одного барреля нефти составляет 450 тысяч рублей.\n",
    "5. Необходимо выбрать регион, в котором вероятность убытков меньше 2.5%.\n",
    "\n",
    "**5. Описание данных:**\n",
    "- **id** — уникальный идентификатор скважины.\n",
    "- **f0, f1, f2** — три признака, характеризующие скважину (например, физические или химические параметры).\n",
    "- **product** — объём нефти в скважине (в тысячах баррелей).\n",
    "\n",
    "Данные представлены по трём регионам, и необходимо определить, в каком из них разработка будет наиболее выгодной."
   ]
  },
  {
   "cell_type": "markdown",
   "id": "fb25e665-ed0b-4287-821d-da634aae472e",
   "metadata": {},
   "source": [
    "## 1. Загрузка и подготовка данных"
   ]
  },
  {
   "cell_type": "markdown",
   "id": "b261586b-d864-4fbe-b648-ff959d2b7473",
   "metadata": {},
   "source": [
    "### 1.1. Общая информация"
   ]
  },
  {
   "cell_type": "markdown",
   "id": "ff1f9fd1-2ccf-409f-9286-8edcfc102fd2",
   "metadata": {},
   "source": [
    "#### 1.1.1. Импорт"
   ]
  },
  {
   "cell_type": "code",
   "execution_count": 6,
   "id": "8bfaa284-1d16-4559-91b7-0b00705a52ea",
   "metadata": {
    "execution": {
     "iopub.execute_input": "2024-10-25T08:03:57.289528Z",
     "iopub.status.busy": "2024-10-25T08:03:57.288347Z",
     "iopub.status.idle": "2024-10-25T08:03:58.135590Z",
     "shell.execute_reply": "2024-10-25T08:03:58.135018Z",
     "shell.execute_reply.started": "2024-10-25T08:03:57.289528Z"
    }
   },
   "outputs": [],
   "source": [
    "import pandas as pd\n",
    "import numpy as np\n",
    "import matplotlib.pyplot as plt\n",
    "from sklearn.model_selection import train_test_split\n",
    "from sklearn.preprocessing import StandardScaler\n",
    "from sklearn.linear_model import LinearRegression\n",
    "from sklearn.metrics import mean_squared_error\n",
    "from sklearn.pipeline import Pipeline\n",
    "from sklearn.model_selection import train_test_split, cross_val_score\n",
    "\n",
    "\n",
    "\n",
    "pd.set_option('display.max_columns', None)\n",
    "pd.set_option('display.max_rows', None)\n",
    "pd.options.mode.chained_assignment = None\n",
    "\n",
    "import warnings\n",
    "from warnings import simplefilter\n",
    "warnings.filterwarnings(\"ignore\", \"is_categorical_dtype\")\n",
    "warnings.filterwarnings(\"ignore\", \"use_inf_as_na\")\n",
    "simplefilter(action='ignore', category=FutureWarning)\n"
   ]
  },
  {
   "cell_type": "markdown",
   "id": "f46d8a1c-f62b-4f34-9b94-b86627e47acd",
   "metadata": {},
   "source": [
    "#### 1.1.2. Константы"
   ]
  },
  {
   "cell_type": "code",
   "execution_count": 8,
   "id": "b7580064-71df-46a8-90fc-510129620a89",
   "metadata": {
    "execution": {
     "iopub.execute_input": "2024-10-25T08:03:58.150900Z",
     "iopub.status.busy": "2024-10-25T08:03:58.149904Z",
     "iopub.status.idle": "2024-10-25T08:03:58.153745Z",
     "shell.execute_reply": "2024-10-25T08:03:58.153745Z",
     "shell.execute_reply.started": "2024-10-25T08:03:58.150900Z"
    }
   },
   "outputs": [],
   "source": [
    "RANDOM_STATE = 42\n",
    "TEST_SIZE = 0.25\n",
    "line_1 = '-'*90 #линия \n",
    "line_2 = '_'*90#линия\n",
    "#_____________________________\n",
    "#Для расчета прибыли\n",
    "TOTAL_BUDGET = 10000000000\n",
    "SELECTING_WELLS_COUNT = 500\n",
    "BEST_WELLS_COUNT = 200\n",
    "INCOME_FROM_ONE_UNIT = 450000\n"
   ]
  },
  {
   "cell_type": "markdown",
   "id": "18e2057e-0273-40ca-9e09-50329d4ba152",
   "metadata": {},
   "source": [
    "#### 1.1.3. Функции"
   ]
  },
  {
   "cell_type": "markdown",
   "id": "772aae5f-7ba7-4408-a8b1-5b1911746212",
   "metadata": {},
   "source": [
    "##### 1.1.3.1. Функция для получения общей информации о датасете"
   ]
  },
  {
   "cell_type": "code",
   "execution_count": 11,
   "id": "db2dbb9a-1d5b-4c08-9d7e-89150a2c46c6",
   "metadata": {
    "execution": {
     "iopub.execute_input": "2024-10-25T08:03:58.181645Z",
     "iopub.status.busy": "2024-10-25T08:03:58.181645Z",
     "iopub.status.idle": "2024-10-25T08:03:58.187453Z",
     "shell.execute_reply": "2024-10-25T08:03:58.187453Z",
     "shell.execute_reply.started": "2024-10-25T08:03:58.181645Z"
    }
   },
   "outputs": [],
   "source": [
    "# Напишем функцию для получения общей информации о датасете\n",
    "def get_info(data):\n",
    "    display(data.head())\n",
    "    print(line_1)\n",
    "    display(data.info())\n",
    "    display(data.describe())\n",
    "    print(line_1)\n",
    "    id_duplicates = data['id'].value_counts()\n",
    "    print(line_1)\n",
    "    \n",
    "    print('Кол-во неявных дубликатов в столбце id:', len(data) - id_duplicates.count())\n",
    "    data = data.drop_duplicates(subset='id', keep='first')\n",
    "    print('Кол-во явных дубликатов:', data.duplicated().sum())\n",
    "    print('Кол-во пропусков:\\n',  data.isna().sum())\n",
    "    print(line_1)\n",
    "    display(data.info())\n",
    "    \n",
    "    plt.hist(data['product'], color = 'orange', edgecolor = 'orange', bins = 1000)\n",
    "    x_axis = np.arange(0, 200, 20)\n",
    "    y_axis = np.arange(0, 500, 50)\n",
    "    plt.xticks(x_axis)\n",
    "    plt.yticks(y_axis)\n",
    "    plt.ylim(0, 200)\n",
    "    plt.title('Распределение целевой переменной product:')\n",
    "    plt.xlabel('Значение переменной')\n",
    "    plt.show()\n",
    "\n",
    "    return data  # Возвращаем обновлённый набор данных\n",
    "\n"
   ]
  },
  {
   "cell_type": "markdown",
   "id": "afc914d7-bcc1-45c1-9966-dbe829103e0e",
   "metadata": {},
   "source": [
    "##### 1.1.3.2. Функция для обучения модели и оценки её качества с использованием кросс-валидации."
   ]
  },
  {
   "cell_type": "code",
   "execution_count": 13,
   "id": "34c985bf-3d7e-4495-b5e4-f5c820e9c583",
   "metadata": {
    "execution": {
     "iopub.execute_input": "2024-10-25T08:03:58.200067Z",
     "iopub.status.busy": "2024-10-25T08:03:58.200067Z",
     "iopub.status.idle": "2024-10-25T08:03:58.204934Z",
     "shell.execute_reply": "2024-10-25T08:03:58.204934Z",
     "shell.execute_reply.started": "2024-10-25T08:03:58.200067Z"
    }
   },
   "outputs": [],
   "source": [
    "def m_l(features, target, region_name):\n",
    "    \"\"\"\n",
    "    Функция для обучения модели и расчёта метрик. Без вывода на экран.\n",
    "    \"\"\"\n",
    "    X_train, X_test, y_train, y_test = train_test_split(features, target, test_size=TEST_SIZE, random_state=RANDOM_STATE)\n",
    "    \n",
    "    pipeline = Pipeline([\n",
    "        ('scaler', StandardScaler()),  # Масштабирование данных (стандартизация)\n",
    "        ('model', LinearRegression())  # Модель линейной регрессии\n",
    "    ])\n",
    "\n",
    "    pipeline.fit(X_train, y_train)\n",
    "    y_pred = pipeline.predict(X_test)\n",
    "\n",
    "    # Средний запас сырья (среднее значение предсказаний)\n",
    "    avg_predicted_reserves = np.mean(y_pred)\n",
    "\n",
    "    # RMSE на тестовой выборке\n",
    "    rmse = np.sqrt(mean_squared_error(y_test, y_pred))\n",
    "\n",
    "    # Кросс-валидация для оценки модели\n",
    "    scores = cross_val_score(pipeline, X_train, y_train, cv=5, scoring='neg_mean_squared_error')\n",
    "\n",
    "    # Средний MSE на кросс-валидации\n",
    "    avg_mse = -scores.mean()\n",
    "\n",
    "    \n",
    "    # Возвращаем средний запас сырья, RMSE и средний MSE\n",
    "    return avg_predicted_reserves, rmse, avg_mse, y_pred, y_test"
   ]
  },
  {
   "cell_type": "markdown",
   "id": "7f1b5952-6137-4e6b-9d32-a2e4a74d54e9",
   "metadata": {},
   "source": [
    "##### 1.1.3.3. Функция вывода обучения ML-модели в разрезе регионов"
   ]
  },
  {
   "cell_type": "code",
   "execution_count": 15,
   "id": "a954bbe9-fca1-4ee9-93ef-8c7da40d6e05",
   "metadata": {
    "execution": {
     "iopub.execute_input": "2024-10-25T08:03:58.219761Z",
     "iopub.status.busy": "2024-10-25T08:03:58.219761Z",
     "iopub.status.idle": "2024-10-25T08:03:58.224342Z",
     "shell.execute_reply": "2024-10-25T08:03:58.224342Z",
     "shell.execute_reply.started": "2024-10-25T08:03:58.219761Z"
    }
   },
   "outputs": [],
   "source": [
    "def process_region_data_with_metrics(regions):\n",
    "    \"\"\"\n",
    "    Функция, которая для каждого региона выводит метрики модели и предсказания.\n",
    "    \"\"\"\n",
    "    for region_name, (features, target) in regions.items():\n",
    "        print(f\"Обрабатываем регион: {region_name}\")\n",
    "        \n",
    "        # Вызов функции m_l для получения метрик и предсказаний\n",
    "        avg_predicted_reserves, rmse, avg_mse, y_pred, y_test = m_l(features, target, region_name)\n",
    "        \n",
    "        # Вывод метрик\n",
    "        print(f\"Средний запас сырья (avg_predicted_reserves): {avg_predicted_reserves}\")\n",
    "        print(f\"RMSE модели: {rmse}\")\n",
    "        print(f\"Средний MSE на кросс-валидации: {avg_mse}\")\n",
    "        \n",
    "        # Сохранение предсказанных и реальных значений в переменные (при необходимости)\n",
    "        predicted_values = y_pred  # Предсказанные значения модели\n",
    "        actual_values = y_test  # Реальные значения целевой переменной\n",
    "        \n",
    "        # Вывод первых 5 предсказанных и реальных значений\n",
    "        print(f\"Первые 5 предсказанных значений (y_pred): {predicted_values[:5]}\")\n",
    "        print(f\"Первые 5 реальных значений (y_test): {actual_values[:5]}\")\n",
    "        \n",
    "        print(\"-\" * 40)"
   ]
  },
  {
   "cell_type": "markdown",
   "id": "7363798c-d576-4b77-b718-1ca3c85de914",
   "metadata": {},
   "source": [
    "##### 1.1.3.4. Функция для сравнения среднего запаса по каждому региону с достаточным объёмом сырья для безубыточной разработки"
   ]
  },
  {
   "cell_type": "code",
   "execution_count": 17,
   "id": "4226f978-4013-4ab7-9bb2-cbc737abfa12",
   "metadata": {
    "execution": {
     "iopub.execute_input": "2024-10-25T08:03:58.239027Z",
     "iopub.status.busy": "2024-10-25T08:03:58.239027Z",
     "iopub.status.idle": "2024-10-25T08:03:58.242408Z",
     "shell.execute_reply": "2024-10-25T08:03:58.242408Z",
     "shell.execute_reply.started": "2024-10-25T08:03:58.239027Z"
    }
   },
   "outputs": [],
   "source": [
    "def compare_avg_reserves(sufficient_volume, avg_reserves_list):\n",
    "    \"\"\"\n",
    "    Функция для сравнения среднего запаса по каждому региону с достаточным объёмом сырья для безубыточной разработки.\n",
    "    \n",
    "    :param sufficient_volume: Достаточный объём сырья для безубыточной разработки (тыс. баррелей)\n",
    "    :param avg_reserves_list: Словарь с регионами и их средними запасами (тыс. баррелей)\n",
    "    \"\"\"\n",
    "    \n",
    "    # Проходим по каждому региону в словаре и сравниваем средний запас с достаточным объёмом\n",
    "    for region, avg_reserves in avg_reserves_list.items():\n",
    "        if avg_reserves >= sufficient_volume:\n",
    "            print(f\"Средний запас в регионе {region}: {avg_reserves:.2f} тыс. баррелей — достаточно для безубыточной разработки.\")\n",
    "        else:\n",
    "            print(f\"Средний запас в регионе {region}: {avg_reserves:.2f} тыс. баррелей — недостаточно для безубыточной разработки.\")\n"
   ]
  },
  {
   "cell_type": "code",
   "execution_count": null,
   "id": "993ba883-c9a0-408c-be78-1b89ce68f089",
   "metadata": {},
   "outputs": [],
   "source": []
  },
  {
   "cell_type": "code",
   "execution_count": 18,
   "id": "a0acdcc7-b112-47d5-8ea0-7c4889f07b69",
   "metadata": {
    "execution": {
     "iopub.execute_input": "2024-10-25T08:03:58.243415Z",
     "iopub.status.busy": "2024-10-25T08:03:58.243415Z",
     "iopub.status.idle": "2024-10-25T08:03:58.249505Z",
     "shell.execute_reply": "2024-10-25T08:03:58.249505Z",
     "shell.execute_reply.started": "2024-10-25T08:03:58.243415Z"
    }
   },
   "outputs": [],
   "source": [
    "def revenue_all_region_bootstrap(region_list_predicted):\n",
    "    \"\"\"\n",
    "    Функция для расчета прибыли для каждого региона на основе предсказанных значений с использованием Bootstrap.\n",
    "    \n",
    "    :param region_list_predicted: Словарь, где ключи — названия регионов, \n",
    "                                  а значения — кортежи (y_pred, y_test).\n",
    "    \"\"\"\n",
    "    # Словарь для накопления прибылей всех итераций по каждому региону\n",
    "    profits_all = {region: [] for region in region_list_predicted.keys()}\n",
    "    \n",
    "    # 1000 итераций Bootstrap\n",
    "    for i in range(1000):\n",
    "        for region, (y_pred, y_test) in region_list_predicted.items():\n",
    "            # Преобразование y_pred в pandas.Series с индексами из y_test\n",
    "            y_pred_series = pd.Series(y_pred, index=y_test.index)\n",
    "            \n",
    "            # Проверка на совпадение размеров выборок\n",
    "            if len(y_test) != len(y_pred_series):\n",
    "                raise ValueError(\"Размеры y_test и y_pred должны совпадать\")\n",
    "            \n",
    "            # Генерация подвыборки для Bootstrap\n",
    "            target_subsample = y_test.sample(n=SELECTING_WELLS_COUNT, replace=True, random_state=i)\n",
    "            probs_subsample = y_pred_series[target_subsample.index]\n",
    "            \n",
    "            # Сортировка вероятностей по убыванию и выбор лучших 200 скважин\n",
    "            probs_200_best = probs_subsample.sort_values(ascending=False).head(BEST_WELLS_COUNT)\n",
    "            \n",
    "            # Отбор целевых значений по индексу лучших скважин\n",
    "            selected = target_subsample.loc[probs_200_best.index]\n",
    "            \n",
    "            # Вычисление прибыли и добавление в список для данного региона\n",
    "            profit = selected.sum() * INCOME_FROM_ONE_UNIT - TOTAL_BUDGET\n",
    "            profits_all[region].append(profit)\n",
    "    \n",
    "    # Рассчитываем среднюю прибыль и доверительный интервал по каждому региону\n",
    "    for region, profits in profits_all.items():\n",
    "        profits_series = pd.Series(profits)\n",
    "        mean_profit = profits_series.mean()\n",
    "        lower = profits_series.quantile(0.025)\n",
    "        upper = profits_series.quantile(0.975)\n",
    "        \n",
    "        # Форматированный вывод для каждого региона\n",
    "        print(f\"Регион: {region}\")\n",
    "        print(f\"Средняя прибыль: {mean_profit}\")\n",
    "        print(f\"95%-ый доверительный интервал: [{lower}, {upper}]\")\n",
    "        print(f'Риск убытка: {(len(profits_series[profits_series < 0]) / len(profits_series)):.2%}')\n",
    "        print(line_1)"
   ]
  },
  {
   "cell_type": "markdown",
   "id": "13138017-aedc-4b33-8222-449a932db5f2",
   "metadata": {},
   "source": [
    "#### 1.1.3. Загрузка данных"
   ]
  },
  {
   "cell_type": "code",
   "execution_count": 20,
   "id": "a3825694-5e54-4b86-a3be-262368055fed",
   "metadata": {
    "execution": {
     "iopub.execute_input": "2024-10-25T08:03:58.265026Z",
     "iopub.status.busy": "2024-10-25T08:03:58.264026Z",
     "iopub.status.idle": "2024-10-25T08:03:58.496531Z",
     "shell.execute_reply": "2024-10-25T08:03:58.495525Z",
     "shell.execute_reply.started": "2024-10-25T08:03:58.265026Z"
    }
   },
   "outputs": [],
   "source": [
    "#Данные\n",
    "try:\n",
    "    first_geo = pd.read_csv('datasets/geo_data_0.csv')\n",
    "    second_geo = pd.read_csv('datasets/geo_data_1.csv')\n",
    "    third_geo = pd.read_csv('datasets/geo_data_2.csv')\n",
    "except:\n",
    "    first_geo = pd.read_csv('https://code.s3.yandex.net/datasets/geo_data_0.csv')\n",
    "    second_geo = pd.read_csv('https://code.s3.yandex.net/datasets/geo_data_1.csv')\n",
    "    third_geo = pd.read_csv('https://code.s3.yandex.net/datasets/geo_data_2.csv')"
   ]
  },
  {
   "cell_type": "markdown",
   "id": "e7db7935-70c3-4dc9-8a5f-c9fb7c7e89ca",
   "metadata": {},
   "source": [
    "### 1.2. Анализ датасетов"
   ]
  },
  {
   "cell_type": "markdown",
   "id": "d54e4c58-76a1-4c5b-b5a2-b8f9066d0790",
   "metadata": {},
   "source": [
    "#### `first_geo`"
   ]
  },
  {
   "cell_type": "code",
   "execution_count": 23,
   "id": "139998ef-3d04-4a86-8907-7f173a12d9cf",
   "metadata": {
    "execution": {
     "iopub.execute_input": "2024-10-25T08:03:58.527684Z",
     "iopub.status.busy": "2024-10-25T08:03:58.527684Z",
     "iopub.status.idle": "2024-10-25T08:03:59.441768Z",
     "shell.execute_reply": "2024-10-25T08:03:59.441768Z",
     "shell.execute_reply.started": "2024-10-25T08:03:58.527684Z"
    }
   },
   "outputs": [
    {
     "data": {
      "text/html": [
       "<div>\n",
       "<style scoped>\n",
       "    .dataframe tbody tr th:only-of-type {\n",
       "        vertical-align: middle;\n",
       "    }\n",
       "\n",
       "    .dataframe tbody tr th {\n",
       "        vertical-align: top;\n",
       "    }\n",
       "\n",
       "    .dataframe thead th {\n",
       "        text-align: right;\n",
       "    }\n",
       "</style>\n",
       "<table border=\"1\" class=\"dataframe\">\n",
       "  <thead>\n",
       "    <tr style=\"text-align: right;\">\n",
       "      <th></th>\n",
       "      <th>id</th>\n",
       "      <th>f0</th>\n",
       "      <th>f1</th>\n",
       "      <th>f2</th>\n",
       "      <th>product</th>\n",
       "    </tr>\n",
       "  </thead>\n",
       "  <tbody>\n",
       "    <tr>\n",
       "      <th>0</th>\n",
       "      <td>txEyH</td>\n",
       "      <td>0.705745</td>\n",
       "      <td>-0.497823</td>\n",
       "      <td>1.221170</td>\n",
       "      <td>105.280062</td>\n",
       "    </tr>\n",
       "    <tr>\n",
       "      <th>1</th>\n",
       "      <td>2acmU</td>\n",
       "      <td>1.334711</td>\n",
       "      <td>-0.340164</td>\n",
       "      <td>4.365080</td>\n",
       "      <td>73.037750</td>\n",
       "    </tr>\n",
       "    <tr>\n",
       "      <th>2</th>\n",
       "      <td>409Wp</td>\n",
       "      <td>1.022732</td>\n",
       "      <td>0.151990</td>\n",
       "      <td>1.419926</td>\n",
       "      <td>85.265647</td>\n",
       "    </tr>\n",
       "    <tr>\n",
       "      <th>3</th>\n",
       "      <td>iJLyR</td>\n",
       "      <td>-0.032172</td>\n",
       "      <td>0.139033</td>\n",
       "      <td>2.978566</td>\n",
       "      <td>168.620776</td>\n",
       "    </tr>\n",
       "    <tr>\n",
       "      <th>4</th>\n",
       "      <td>Xdl7t</td>\n",
       "      <td>1.988431</td>\n",
       "      <td>0.155413</td>\n",
       "      <td>4.751769</td>\n",
       "      <td>154.036647</td>\n",
       "    </tr>\n",
       "  </tbody>\n",
       "</table>\n",
       "</div>"
      ],
      "text/plain": [
       "      id        f0        f1        f2     product\n",
       "0  txEyH  0.705745 -0.497823  1.221170  105.280062\n",
       "1  2acmU  1.334711 -0.340164  4.365080   73.037750\n",
       "2  409Wp  1.022732  0.151990  1.419926   85.265647\n",
       "3  iJLyR -0.032172  0.139033  2.978566  168.620776\n",
       "4  Xdl7t  1.988431  0.155413  4.751769  154.036647"
      ]
     },
     "metadata": {},
     "output_type": "display_data"
    },
    {
     "name": "stdout",
     "output_type": "stream",
     "text": [
      "------------------------------------------------------------------------------------------\n",
      "<class 'pandas.core.frame.DataFrame'>\n",
      "RangeIndex: 100000 entries, 0 to 99999\n",
      "Data columns (total 5 columns):\n",
      " #   Column   Non-Null Count   Dtype  \n",
      "---  ------   --------------   -----  \n",
      " 0   id       100000 non-null  object \n",
      " 1   f0       100000 non-null  float64\n",
      " 2   f1       100000 non-null  float64\n",
      " 3   f2       100000 non-null  float64\n",
      " 4   product  100000 non-null  float64\n",
      "dtypes: float64(4), object(1)\n",
      "memory usage: 3.8+ MB\n"
     ]
    },
    {
     "data": {
      "text/plain": [
       "None"
      ]
     },
     "metadata": {},
     "output_type": "display_data"
    },
    {
     "data": {
      "text/html": [
       "<div>\n",
       "<style scoped>\n",
       "    .dataframe tbody tr th:only-of-type {\n",
       "        vertical-align: middle;\n",
       "    }\n",
       "\n",
       "    .dataframe tbody tr th {\n",
       "        vertical-align: top;\n",
       "    }\n",
       "\n",
       "    .dataframe thead th {\n",
       "        text-align: right;\n",
       "    }\n",
       "</style>\n",
       "<table border=\"1\" class=\"dataframe\">\n",
       "  <thead>\n",
       "    <tr style=\"text-align: right;\">\n",
       "      <th></th>\n",
       "      <th>f0</th>\n",
       "      <th>f1</th>\n",
       "      <th>f2</th>\n",
       "      <th>product</th>\n",
       "    </tr>\n",
       "  </thead>\n",
       "  <tbody>\n",
       "    <tr>\n",
       "      <th>count</th>\n",
       "      <td>100000.000000</td>\n",
       "      <td>100000.000000</td>\n",
       "      <td>100000.000000</td>\n",
       "      <td>100000.000000</td>\n",
       "    </tr>\n",
       "    <tr>\n",
       "      <th>mean</th>\n",
       "      <td>0.500419</td>\n",
       "      <td>0.250143</td>\n",
       "      <td>2.502647</td>\n",
       "      <td>92.500000</td>\n",
       "    </tr>\n",
       "    <tr>\n",
       "      <th>std</th>\n",
       "      <td>0.871832</td>\n",
       "      <td>0.504433</td>\n",
       "      <td>3.248248</td>\n",
       "      <td>44.288691</td>\n",
       "    </tr>\n",
       "    <tr>\n",
       "      <th>min</th>\n",
       "      <td>-1.408605</td>\n",
       "      <td>-0.848218</td>\n",
       "      <td>-12.088328</td>\n",
       "      <td>0.000000</td>\n",
       "    </tr>\n",
       "    <tr>\n",
       "      <th>25%</th>\n",
       "      <td>-0.072580</td>\n",
       "      <td>-0.200881</td>\n",
       "      <td>0.287748</td>\n",
       "      <td>56.497507</td>\n",
       "    </tr>\n",
       "    <tr>\n",
       "      <th>50%</th>\n",
       "      <td>0.502360</td>\n",
       "      <td>0.250252</td>\n",
       "      <td>2.515969</td>\n",
       "      <td>91.849972</td>\n",
       "    </tr>\n",
       "    <tr>\n",
       "      <th>75%</th>\n",
       "      <td>1.073581</td>\n",
       "      <td>0.700646</td>\n",
       "      <td>4.715088</td>\n",
       "      <td>128.564089</td>\n",
       "    </tr>\n",
       "    <tr>\n",
       "      <th>max</th>\n",
       "      <td>2.362331</td>\n",
       "      <td>1.343769</td>\n",
       "      <td>16.003790</td>\n",
       "      <td>185.364347</td>\n",
       "    </tr>\n",
       "  </tbody>\n",
       "</table>\n",
       "</div>"
      ],
      "text/plain": [
       "                  f0             f1             f2        product\n",
       "count  100000.000000  100000.000000  100000.000000  100000.000000\n",
       "mean        0.500419       0.250143       2.502647      92.500000\n",
       "std         0.871832       0.504433       3.248248      44.288691\n",
       "min        -1.408605      -0.848218     -12.088328       0.000000\n",
       "25%        -0.072580      -0.200881       0.287748      56.497507\n",
       "50%         0.502360       0.250252       2.515969      91.849972\n",
       "75%         1.073581       0.700646       4.715088     128.564089\n",
       "max         2.362331       1.343769      16.003790     185.364347"
      ]
     },
     "metadata": {},
     "output_type": "display_data"
    },
    {
     "name": "stdout",
     "output_type": "stream",
     "text": [
      "------------------------------------------------------------------------------------------\n",
      "------------------------------------------------------------------------------------------\n",
      "Кол-во неявных дубликатов в столбце id: 10\n",
      "Кол-во явных дубликатов: 0\n",
      "Кол-во пропусков:\n",
      " id         0\n",
      "f0         0\n",
      "f1         0\n",
      "f2         0\n",
      "product    0\n",
      "dtype: int64\n",
      "------------------------------------------------------------------------------------------\n",
      "<class 'pandas.core.frame.DataFrame'>\n",
      "Index: 99990 entries, 0 to 99999\n",
      "Data columns (total 5 columns):\n",
      " #   Column   Non-Null Count  Dtype  \n",
      "---  ------   --------------  -----  \n",
      " 0   id       99990 non-null  object \n",
      " 1   f0       99990 non-null  float64\n",
      " 2   f1       99990 non-null  float64\n",
      " 3   f2       99990 non-null  float64\n",
      " 4   product  99990 non-null  float64\n",
      "dtypes: float64(4), object(1)\n",
      "memory usage: 4.6+ MB\n"
     ]
    },
    {
     "data": {
      "text/plain": [
       "None"
      ]
     },
     "metadata": {},
     "output_type": "display_data"
    },
    {
     "data": {
      "image/png": "[encoded data removed]",
      "text/plain": [
       "<Figure size 640x480 with 1 Axes>"
      ]
     },
     "metadata": {},
     "output_type": "display_data"
    }
   ],
   "source": [
    "first_geo = get_info(first_geo)"
   ]
  },
  {
   "cell_type": "code",
   "execution_count": 24,
   "id": "d96c07ef-ddd8-49c5-ae2f-7389ccc53281",
   "metadata": {
    "execution": {
     "iopub.execute_input": "2024-10-25T08:03:59.443773Z",
     "iopub.status.busy": "2024-10-25T08:03:59.443773Z",
     "iopub.status.idle": "2024-10-25T08:03:59.457444Z",
     "shell.execute_reply": "2024-10-25T08:03:59.457444Z",
     "shell.execute_reply.started": "2024-10-25T08:03:59.443773Z"
    }
   },
   "outputs": [
    {
     "name": "stdout",
     "output_type": "stream",
     "text": [
      "<class 'pandas.core.frame.DataFrame'>\n",
      "Index: 99990 entries, 0 to 99999\n",
      "Data columns (total 5 columns):\n",
      " #   Column   Non-Null Count  Dtype  \n",
      "---  ------   --------------  -----  \n",
      " 0   id       99990 non-null  object \n",
      " 1   f0       99990 non-null  float64\n",
      " 2   f1       99990 non-null  float64\n",
      " 3   f2       99990 non-null  float64\n",
      " 4   product  99990 non-null  float64\n",
      "dtypes: float64(4), object(1)\n",
      "memory usage: 4.6+ MB\n"
     ]
    }
   ],
   "source": [
    "first_geo.info()"
   ]
  },
  {
   "cell_type": "markdown",
   "id": "ce1bab9e-7990-4cce-833b-964a95f285fc",
   "metadata": {},
   "source": [
    "#### `second_geo`"
   ]
  },
  {
   "cell_type": "code",
   "execution_count": 26,
   "id": "3693dde3-f52b-42b9-bb77-815064085c67",
   "metadata": {
    "execution": {
     "iopub.execute_input": "2024-10-25T08:03:59.480164Z",
     "iopub.status.busy": "2024-10-25T08:03:59.480164Z",
     "iopub.status.idle": "2024-10-25T08:04:00.762245Z",
     "shell.execute_reply": "2024-10-25T08:04:00.761239Z",
     "shell.execute_reply.started": "2024-10-25T08:03:59.480164Z"
    }
   },
   "outputs": [
    {
     "data": {
      "text/html": [
       "<div>\n",
       "<style scoped>\n",
       "    .dataframe tbody tr th:only-of-type {\n",
       "        vertical-align: middle;\n",
       "    }\n",
       "\n",
       "    .dataframe tbody tr th {\n",
       "        vertical-align: top;\n",
       "    }\n",
       "\n",
       "    .dataframe thead th {\n",
       "        text-align: right;\n",
       "    }\n",
       "</style>\n",
       "<table border=\"1\" class=\"dataframe\">\n",
       "  <thead>\n",
       "    <tr style=\"text-align: right;\">\n",
       "      <th></th>\n",
       "      <th>id</th>\n",
       "      <th>f0</th>\n",
       "      <th>f1</th>\n",
       "      <th>f2</th>\n",
       "      <th>product</th>\n",
       "    </tr>\n",
       "  </thead>\n",
       "  <tbody>\n",
       "    <tr>\n",
       "      <th>0</th>\n",
       "      <td>kBEdx</td>\n",
       "      <td>-15.001348</td>\n",
       "      <td>-8.276000</td>\n",
       "      <td>-0.005876</td>\n",
       "      <td>3.179103</td>\n",
       "    </tr>\n",
       "    <tr>\n",
       "      <th>1</th>\n",
       "      <td>62mP7</td>\n",
       "      <td>14.272088</td>\n",
       "      <td>-3.475083</td>\n",
       "      <td>0.999183</td>\n",
       "      <td>26.953261</td>\n",
       "    </tr>\n",
       "    <tr>\n",
       "      <th>2</th>\n",
       "      <td>vyE1P</td>\n",
       "      <td>6.263187</td>\n",
       "      <td>-5.948386</td>\n",
       "      <td>5.001160</td>\n",
       "      <td>134.766305</td>\n",
       "    </tr>\n",
       "    <tr>\n",
       "      <th>3</th>\n",
       "      <td>KcrkZ</td>\n",
       "      <td>-13.081196</td>\n",
       "      <td>-11.506057</td>\n",
       "      <td>4.999415</td>\n",
       "      <td>137.945408</td>\n",
       "    </tr>\n",
       "    <tr>\n",
       "      <th>4</th>\n",
       "      <td>AHL4O</td>\n",
       "      <td>12.702195</td>\n",
       "      <td>-8.147433</td>\n",
       "      <td>5.004363</td>\n",
       "      <td>134.766305</td>\n",
       "    </tr>\n",
       "  </tbody>\n",
       "</table>\n",
       "</div>"
      ],
      "text/plain": [
       "      id         f0         f1        f2     product\n",
       "0  kBEdx -15.001348  -8.276000 -0.005876    3.179103\n",
       "1  62mP7  14.272088  -3.475083  0.999183   26.953261\n",
       "2  vyE1P   6.263187  -5.948386  5.001160  134.766305\n",
       "3  KcrkZ -13.081196 -11.506057  4.999415  137.945408\n",
       "4  AHL4O  12.702195  -8.147433  5.004363  134.766305"
      ]
     },
     "metadata": {},
     "output_type": "display_data"
    },
    {
     "name": "stdout",
     "output_type": "stream",
     "text": [
      "------------------------------------------------------------------------------------------\n",
      "<class 'pandas.core.frame.DataFrame'>\n",
      "RangeIndex: 100000 entries, 0 to 99999\n",
      "Data columns (total 5 columns):\n",
      " #   Column   Non-Null Count   Dtype  \n",
      "---  ------   --------------   -----  \n",
      " 0   id       100000 non-null  object \n",
      " 1   f0       100000 non-null  float64\n",
      " 2   f1       100000 non-null  float64\n",
      " 3   f2       100000 non-null  float64\n",
      " 4   product  100000 non-null  float64\n",
      "dtypes: float64(4), object(1)\n",
      "memory usage: 3.8+ MB\n"
     ]
    },
    {
     "data": {
      "text/plain": [
       "None"
      ]
     },
     "metadata": {},
     "output_type": "display_data"
    },
    {
     "data": {
      "text/html": [
       "<div>\n",
       "<style scoped>\n",
       "    .dataframe tbody tr th:only-of-type {\n",
       "        vertical-align: middle;\n",
       "    }\n",
       "\n",
       "    .dataframe tbody tr th {\n",
       "        vertical-align: top;\n",
       "    }\n",
       "\n",
       "    .dataframe thead th {\n",
       "        text-align: right;\n",
       "    }\n",
       "</style>\n",
       "<table border=\"1\" class=\"dataframe\">\n",
       "  <thead>\n",
       "    <tr style=\"text-align: right;\">\n",
       "      <th></th>\n",
       "      <th>f0</th>\n",
       "      <th>f1</th>\n",
       "      <th>f2</th>\n",
       "      <th>product</th>\n",
       "    </tr>\n",
       "  </thead>\n",
       "  <tbody>\n",
       "    <tr>\n",
       "      <th>count</th>\n",
       "      <td>100000.000000</td>\n",
       "      <td>100000.000000</td>\n",
       "      <td>100000.000000</td>\n",
       "      <td>100000.000000</td>\n",
       "    </tr>\n",
       "    <tr>\n",
       "      <th>mean</th>\n",
       "      <td>1.141296</td>\n",
       "      <td>-4.796579</td>\n",
       "      <td>2.494541</td>\n",
       "      <td>68.825000</td>\n",
       "    </tr>\n",
       "    <tr>\n",
       "      <th>std</th>\n",
       "      <td>8.965932</td>\n",
       "      <td>5.119872</td>\n",
       "      <td>1.703572</td>\n",
       "      <td>45.944423</td>\n",
       "    </tr>\n",
       "    <tr>\n",
       "      <th>min</th>\n",
       "      <td>-31.609576</td>\n",
       "      <td>-26.358598</td>\n",
       "      <td>-0.018144</td>\n",
       "      <td>0.000000</td>\n",
       "    </tr>\n",
       "    <tr>\n",
       "      <th>25%</th>\n",
       "      <td>-6.298551</td>\n",
       "      <td>-8.267985</td>\n",
       "      <td>1.000021</td>\n",
       "      <td>26.953261</td>\n",
       "    </tr>\n",
       "    <tr>\n",
       "      <th>50%</th>\n",
       "      <td>1.153055</td>\n",
       "      <td>-4.813172</td>\n",
       "      <td>2.011479</td>\n",
       "      <td>57.085625</td>\n",
       "    </tr>\n",
       "    <tr>\n",
       "      <th>75%</th>\n",
       "      <td>8.621015</td>\n",
       "      <td>-1.332816</td>\n",
       "      <td>3.999904</td>\n",
       "      <td>107.813044</td>\n",
       "    </tr>\n",
       "    <tr>\n",
       "      <th>max</th>\n",
       "      <td>29.421755</td>\n",
       "      <td>18.734063</td>\n",
       "      <td>5.019721</td>\n",
       "      <td>137.945408</td>\n",
       "    </tr>\n",
       "  </tbody>\n",
       "</table>\n",
       "</div>"
      ],
      "text/plain": [
       "                  f0             f1             f2        product\n",
       "count  100000.000000  100000.000000  100000.000000  100000.000000\n",
       "mean        1.141296      -4.796579       2.494541      68.825000\n",
       "std         8.965932       5.119872       1.703572      45.944423\n",
       "min       -31.609576     -26.358598      -0.018144       0.000000\n",
       "25%        -6.298551      -8.267985       1.000021      26.953261\n",
       "50%         1.153055      -4.813172       2.011479      57.085625\n",
       "75%         8.621015      -1.332816       3.999904     107.813044\n",
       "max        29.421755      18.734063       5.019721     137.945408"
      ]
     },
     "metadata": {},
     "output_type": "display_data"
    },
    {
     "name": "stdout",
     "output_type": "stream",
     "text": [
      "------------------------------------------------------------------------------------------\n",
      "------------------------------------------------------------------------------------------\n",
      "Кол-во неявных дубликатов в столбце id: 4\n",
      "Кол-во явных дубликатов: 0\n",
      "Кол-во пропусков:\n",
      " id         0\n",
      "f0         0\n",
      "f1         0\n",
      "f2         0\n",
      "product    0\n",
      "dtype: int64\n",
      "------------------------------------------------------------------------------------------\n",
      "<class 'pandas.core.frame.DataFrame'>\n",
      "Index: 99996 entries, 0 to 99999\n",
      "Data columns (total 5 columns):\n",
      " #   Column   Non-Null Count  Dtype  \n",
      "---  ------   --------------  -----  \n",
      " 0   id       99996 non-null  object \n",
      " 1   f0       99996 non-null  float64\n",
      " 2   f1       99996 non-null  float64\n",
      " 3   f2       99996 non-null  float64\n",
      " 4   product  99996 non-null  float64\n",
      "dtypes: float64(4), object(1)\n",
      "memory usage: 4.6+ MB\n"
     ]
    },
    {
     "data": {
      "text/plain": [
       "None"
      ]
     },
     "metadata": {},
     "output_type": "display_data"
    },
    {
     "data": {
      "image/png": "[encoded data removed]",
      "text/plain": [
       "<Figure size 640x480 with 1 Axes>"
      ]
     },
     "metadata": {},
     "output_type": "display_data"
    }
   ],
   "source": [
    "second_geo = get_info(second_geo)"
   ]
  },
  {
   "cell_type": "code",
   "execution_count": null,
   "id": "223ec4cb-66fd-4361-ab02-7c4402035b60",
   "metadata": {},
   "outputs": [],
   "source": []
  },
  {
   "cell_type": "markdown",
   "id": "7c182857-86f0-4163-a1a0-4cf588f140ec",
   "metadata": {},
   "source": [
    "#### `third_geo`"
   ]
  },
  {
   "cell_type": "code",
   "execution_count": 28,
   "id": "939d14c8-8c77-4e87-ba81-db1f53d6806c",
   "metadata": {
    "execution": {
     "iopub.execute_input": "2024-10-25T08:04:00.782175Z",
     "iopub.status.busy": "2024-10-25T08:04:00.782175Z",
     "iopub.status.idle": "2024-10-25T08:04:02.233703Z",
     "shell.execute_reply": "2024-10-25T08:04:02.232698Z",
     "shell.execute_reply.started": "2024-10-25T08:04:00.782175Z"
    }
   },
   "outputs": [
    {
     "data": {
      "text/html": [
       "<div>\n",
       "<style scoped>\n",
       "    .dataframe tbody tr th:only-of-type {\n",
       "        vertical-align: middle;\n",
       "    }\n",
       "\n",
       "    .dataframe tbody tr th {\n",
       "        vertical-align: top;\n",
       "    }\n",
       "\n",
       "    .dataframe thead th {\n",
       "        text-align: right;\n",
       "    }\n",
       "</style>\n",
       "<table border=\"1\" class=\"dataframe\">\n",
       "  <thead>\n",
       "    <tr style=\"text-align: right;\">\n",
       "      <th></th>\n",
       "      <th>id</th>\n",
       "      <th>f0</th>\n",
       "      <th>f1</th>\n",
       "      <th>f2</th>\n",
       "      <th>product</th>\n",
       "    </tr>\n",
       "  </thead>\n",
       "  <tbody>\n",
       "    <tr>\n",
       "      <th>0</th>\n",
       "      <td>fwXo0</td>\n",
       "      <td>-1.146987</td>\n",
       "      <td>0.963328</td>\n",
       "      <td>-0.828965</td>\n",
       "      <td>27.758673</td>\n",
       "    </tr>\n",
       "    <tr>\n",
       "      <th>1</th>\n",
       "      <td>WJtFt</td>\n",
       "      <td>0.262778</td>\n",
       "      <td>0.269839</td>\n",
       "      <td>-2.530187</td>\n",
       "      <td>56.069697</td>\n",
       "    </tr>\n",
       "    <tr>\n",
       "      <th>2</th>\n",
       "      <td>ovLUW</td>\n",
       "      <td>0.194587</td>\n",
       "      <td>0.289035</td>\n",
       "      <td>-5.586433</td>\n",
       "      <td>62.871910</td>\n",
       "    </tr>\n",
       "    <tr>\n",
       "      <th>3</th>\n",
       "      <td>q6cA6</td>\n",
       "      <td>2.236060</td>\n",
       "      <td>-0.553760</td>\n",
       "      <td>0.930038</td>\n",
       "      <td>114.572842</td>\n",
       "    </tr>\n",
       "    <tr>\n",
       "      <th>4</th>\n",
       "      <td>WPMUX</td>\n",
       "      <td>-0.515993</td>\n",
       "      <td>1.716266</td>\n",
       "      <td>5.899011</td>\n",
       "      <td>149.600746</td>\n",
       "    </tr>\n",
       "  </tbody>\n",
       "</table>\n",
       "</div>"
      ],
      "text/plain": [
       "      id        f0        f1        f2     product\n",
       "0  fwXo0 -1.146987  0.963328 -0.828965   27.758673\n",
       "1  WJtFt  0.262778  0.269839 -2.530187   56.069697\n",
       "2  ovLUW  0.194587  0.289035 -5.586433   62.871910\n",
       "3  q6cA6  2.236060 -0.553760  0.930038  114.572842\n",
       "4  WPMUX -0.515993  1.716266  5.899011  149.600746"
      ]
     },
     "metadata": {},
     "output_type": "display_data"
    },
    {
     "name": "stdout",
     "output_type": "stream",
     "text": [
      "------------------------------------------------------------------------------------------\n",
      "<class 'pandas.core.frame.DataFrame'>\n",
      "RangeIndex: 100000 entries, 0 to 99999\n",
      "Data columns (total 5 columns):\n",
      " #   Column   Non-Null Count   Dtype  \n",
      "---  ------   --------------   -----  \n",
      " 0   id       100000 non-null  object \n",
      " 1   f0       100000 non-null  float64\n",
      " 2   f1       100000 non-null  float64\n",
      " 3   f2       100000 non-null  float64\n",
      " 4   product  100000 non-null  float64\n",
      "dtypes: float64(4), object(1)\n",
      "memory usage: 3.8+ MB\n"
     ]
    },
    {
     "data": {
      "text/plain": [
       "None"
      ]
     },
     "metadata": {},
     "output_type": "display_data"
    },
    {
     "data": {
      "text/html": [
       "<div>\n",
       "<style scoped>\n",
       "    .dataframe tbody tr th:only-of-type {\n",
       "        vertical-align: middle;\n",
       "    }\n",
       "\n",
       "    .dataframe tbody tr th {\n",
       "        vertical-align: top;\n",
       "    }\n",
       "\n",
       "    .dataframe thead th {\n",
       "        text-align: right;\n",
       "    }\n",
       "</style>\n",
       "<table border=\"1\" class=\"dataframe\">\n",
       "  <thead>\n",
       "    <tr style=\"text-align: right;\">\n",
       "      <th></th>\n",
       "      <th>f0</th>\n",
       "      <th>f1</th>\n",
       "      <th>f2</th>\n",
       "      <th>product</th>\n",
       "    </tr>\n",
       "  </thead>\n",
       "  <tbody>\n",
       "    <tr>\n",
       "      <th>count</th>\n",
       "      <td>100000.000000</td>\n",
       "      <td>100000.000000</td>\n",
       "      <td>100000.000000</td>\n",
       "      <td>100000.000000</td>\n",
       "    </tr>\n",
       "    <tr>\n",
       "      <th>mean</th>\n",
       "      <td>0.002023</td>\n",
       "      <td>-0.002081</td>\n",
       "      <td>2.495128</td>\n",
       "      <td>95.000000</td>\n",
       "    </tr>\n",
       "    <tr>\n",
       "      <th>std</th>\n",
       "      <td>1.732045</td>\n",
       "      <td>1.730417</td>\n",
       "      <td>3.473445</td>\n",
       "      <td>44.749921</td>\n",
       "    </tr>\n",
       "    <tr>\n",
       "      <th>min</th>\n",
       "      <td>-8.760004</td>\n",
       "      <td>-7.084020</td>\n",
       "      <td>-11.970335</td>\n",
       "      <td>0.000000</td>\n",
       "    </tr>\n",
       "    <tr>\n",
       "      <th>25%</th>\n",
       "      <td>-1.162288</td>\n",
       "      <td>-1.174820</td>\n",
       "      <td>0.130359</td>\n",
       "      <td>59.450441</td>\n",
       "    </tr>\n",
       "    <tr>\n",
       "      <th>50%</th>\n",
       "      <td>0.009424</td>\n",
       "      <td>-0.009482</td>\n",
       "      <td>2.484236</td>\n",
       "      <td>94.925613</td>\n",
       "    </tr>\n",
       "    <tr>\n",
       "      <th>75%</th>\n",
       "      <td>1.158535</td>\n",
       "      <td>1.163678</td>\n",
       "      <td>4.858794</td>\n",
       "      <td>130.595027</td>\n",
       "    </tr>\n",
       "    <tr>\n",
       "      <th>max</th>\n",
       "      <td>7.238262</td>\n",
       "      <td>7.844801</td>\n",
       "      <td>16.739402</td>\n",
       "      <td>190.029838</td>\n",
       "    </tr>\n",
       "  </tbody>\n",
       "</table>\n",
       "</div>"
      ],
      "text/plain": [
       "                  f0             f1             f2        product\n",
       "count  100000.000000  100000.000000  100000.000000  100000.000000\n",
       "mean        0.002023      -0.002081       2.495128      95.000000\n",
       "std         1.732045       1.730417       3.473445      44.749921\n",
       "min        -8.760004      -7.084020     -11.970335       0.000000\n",
       "25%        -1.162288      -1.174820       0.130359      59.450441\n",
       "50%         0.009424      -0.009482       2.484236      94.925613\n",
       "75%         1.158535       1.163678       4.858794     130.595027\n",
       "max         7.238262       7.844801      16.739402     190.029838"
      ]
     },
     "metadata": {},
     "output_type": "display_data"
    },
    {
     "name": "stdout",
     "output_type": "stream",
     "text": [
      "------------------------------------------------------------------------------------------\n",
      "------------------------------------------------------------------------------------------\n",
      "Кол-во неявных дубликатов в столбце id: 4\n",
      "Кол-во явных дубликатов: 0\n",
      "Кол-во пропусков:\n",
      " id         0\n",
      "f0         0\n",
      "f1         0\n",
      "f2         0\n",
      "product    0\n",
      "dtype: int64\n",
      "------------------------------------------------------------------------------------------\n",
      "<class 'pandas.core.frame.DataFrame'>\n",
      "Index: 99996 entries, 0 to 99999\n",
      "Data columns (total 5 columns):\n",
      " #   Column   Non-Null Count  Dtype  \n",
      "---  ------   --------------  -----  \n",
      " 0   id       99996 non-null  object \n",
      " 1   f0       99996 non-null  float64\n",
      " 2   f1       99996 non-null  float64\n",
      " 3   f2       99996 non-null  float64\n",
      " 4   product  99996 non-null  float64\n",
      "dtypes: float64(4), object(1)\n",
      "memory usage: 4.6+ MB\n"
     ]
    },
    {
     "data": {
      "text/plain": [
       "None"
      ]
     },
     "metadata": {},
     "output_type": "display_data"
    },
    {
     "data": {
      "image/png": "[encoded data removed]",
      "text/plain": [
       "<Figure size 640x480 with 1 Axes>"
      ]
     },
     "metadata": {},
     "output_type": "display_data"
    }
   ],
   "source": [
    "third_geo = get_info(third_geo)"
   ]
  },
  {
   "cell_type": "markdown",
   "id": "4448bb90-8bde-4fc3-9697-0c88f11e9c3c",
   "metadata": {},
   "source": [
    "#### Выводы\n",
    "**`first_geo`**\n",
    "- **Размер**: 100,000 строк, 5 столбцов, после удаления дубликатов — 99,990 строк.\n",
    "- **Целевая переменная `product`**:\n",
    "  - Среднее: 92.5 тыс. баррелей.\n",
    "  - Диапазон: от 0 до 185.36 тыс. баррелей.\n",
    "  - Многомодальное распределение с пиками на уровнях 60–130 тыс. баррелей.\n",
    "- **Дубликаты**: 10 неявных дубликатов, удалено 10 строк.\n",
    "- **Пропусков**: Нет.\n",
    "\n",
    "Готово для дальнейшего анализа.\n",
    "__________________________________________________________________________________________________________________\n",
    "**`second_geo`**\n",
    "1. **Размер данных**:\n",
    "   - 100,000 строк и 5 столбцов.\n",
    "   - После удаления неявных дубликатов осталось 99,996 строк.\n",
    "\n",
    "2. **Целевая переменная `product`**:\n",
    "   - Среднее значение: 68.83 тыс. баррелей.\n",
    "   - Диапазон значений: от 0 до 137.95 тыс. баррелей.\n",
    "   - Стандартное отклонение: 45.94, что указывает на значительную вариативность объёмов нефти.\n",
    "   - Гистограмма показывает проблему с визуализацией, возможно, требуется пересмотреть параметры построения.\n",
    "\n",
    "3. **Дубликаты и очистка**:\n",
    "   - Выявлено 4 неявных дубликата, удалено 4 строки.\n",
    "   - Явных дубликатов нет.\n",
    "\n",
    "4. **Пропуски**:\n",
    "   - Пропусков нет.\n",
    "\n",
    "Данные готовы для дальнейшего анализа.\n",
    "_______________________________________________________________________________________________________________\n",
    "**`third_geo`**\n",
    "1. **Размер данных**:\n",
    "   - 100,000 строк и 5 столбцов.\n",
    "   - После удаления неявных дубликатов осталось 99,996 строк.\n",
    "\n",
    "2. **Целевая переменная `product`**:\n",
    "   - Среднее значение: 95.0 тыс. баррелей.\n",
    "   - Диапазон значений: от 0 до 190.03 тыс. баррелей.\n",
    "   - Стандартное отклонение: 44.75, что указывает на широкий разброс объёмов нефти.\n",
    "   - Гистограмма показывает многомодальное распределение с пиками в диапазоне от 60 до 130 тыс. баррелей, что может указывать на наличие групп месторождений с разной производительностью.\n",
    "\n",
    "3. **Дубликаты и очистка**:\n",
    "   - Найдено 4 неявных дубликата, удалено 4 строки.\n",
    "   - Явных дубликатов нет.\n",
    "\n",
    "4. **Пропуски**:\n",
    "   - Пропусков нет.\n",
    "\n",
    "Данные хорошо сбалансированы и готовы к дальнейшему анализу."
   ]
  },
  {
   "cell_type": "markdown",
   "id": "c7941a5f-df94-4bd0-b994-568b7d75fb8e",
   "metadata": {},
   "source": [
    "### 1.3. Подготовка данных к ML"
   ]
  },
  {
   "cell_type": "code",
   "execution_count": 31,
   "id": "c9b4a82f-550c-4eeb-9872-a6ee6ba59916",
   "metadata": {
    "execution": {
     "iopub.execute_input": "2024-10-25T08:04:02.273962Z",
     "iopub.status.busy": "2024-10-25T08:04:02.273962Z",
     "iopub.status.idle": "2024-10-25T08:04:02.292620Z",
     "shell.execute_reply": "2024-10-25T08:04:02.291615Z",
     "shell.execute_reply.started": "2024-10-25T08:04:02.273962Z"
    }
   },
   "outputs": [],
   "source": [
    "# Индексация датасетов\n",
    "first_geo = first_geo.set_index('id')\n",
    "second_geo = second_geo.set_index('id')\n",
    "third_geo = third_geo.set_index('id')\n",
    "\n",
    "# Убираем из датасетов целевой признак 'product'\n",
    "features_first_geo = first_geo.drop('product', axis=1)\n",
    "features_second_geo = second_geo.drop('product', axis=1)\n",
    "features_third_geo = third_geo.drop('product', axis=1)\n",
    "\n",
    "# Отдельно выделяем целевой параметр\n",
    "target_first_geo = first_geo['product']\n",
    "target_second_geo = second_geo['product']\n",
    "target_third_geo = third_geo['product']"
   ]
  },
  {
   "cell_type": "code",
   "execution_count": 32,
   "id": "de7466df-7139-4e94-ae1c-fed22cd5052d",
   "metadata": {
    "execution": {
     "iopub.execute_input": "2024-10-25T08:04:02.293688Z",
     "iopub.status.busy": "2024-10-25T08:04:02.293688Z",
     "iopub.status.idle": "2024-10-25T08:04:02.299083Z",
     "shell.execute_reply": "2024-10-25T08:04:02.298067Z",
     "shell.execute_reply.started": "2024-10-25T08:04:02.293688Z"
    }
   },
   "outputs": [
    {
     "name": "stdout",
     "output_type": "stream",
     "text": [
      "Размер features_first_geo: (99990, 3)\n",
      "Размер features_second_geo: (99996, 3)\n",
      "Размер features_third_geo: (99996, 3)\n",
      "Размер target_first_geo: (99990,)\n",
      "Размер target_second_geo: (99996,)\n",
      "Размер target_third_geo: (99996,)\n"
     ]
    }
   ],
   "source": [
    "#Проверим размерность\n",
    "for name, dataframe in zip(['features_first_geo', 'features_second_geo', 'features_third_geo','target_first_geo','target_second_geo','target_third_geo'],\n",
    "                           [features_first_geo, features_second_geo, features_third_geo,target_first_geo,target_second_geo,target_third_geo]):\n",
    "    print(f\"Размер {name}: {dataframe.shape}\")"
   ]
  },
  {
   "cell_type": "markdown",
   "id": "7e7c61e6-7558-4475-b57b-7643fc0c6900",
   "metadata": {},
   "source": [
    "## 2. Машинное обучение (ML)"
   ]
  },
  {
   "cell_type": "markdown",
   "id": "eff58e28-0e80-4fbf-821f-be307c673371",
   "metadata": {},
   "source": [
    "### 2.1. Обучение модели LinearRegression"
   ]
  },
  {
   "cell_type": "code",
   "execution_count": 35,
   "id": "a23b7ca4-2f1a-4366-837f-9a7c0881352b",
   "metadata": {
    "execution": {
     "iopub.execute_input": "2024-10-25T08:04:02.337639Z",
     "iopub.status.busy": "2024-10-25T08:04:02.337639Z",
     "iopub.status.idle": "2024-10-25T08:04:02.903191Z",
     "shell.execute_reply": "2024-10-25T08:04:02.903191Z",
     "shell.execute_reply.started": "2024-10-25T08:04:02.337639Z"
    }
   },
   "outputs": [
    {
     "name": "stdout",
     "output_type": "stream",
     "text": [
      "Обрабатываем регион: first_region\n",
      "Средний запас сырья (avg_predicted_reserves): 92.60984027552017\n",
      "RMSE модели: 37.68508926201444\n",
      "Средний MSE на кросс-валидации: 1421.0999118175728\n",
      "Первые 5 предсказанных значений (y_pred): [127.48652781 116.46583085  66.0419102   45.00938973 124.53555679]\n",
      "Первые 5 реальных значений (y_test): id\n",
      "qoTP6    119.813252\n",
      "fNYo7    133.296862\n",
      "KpTZ4     25.310435\n",
      "vGX0w     65.422491\n",
      "6N2oA    140.851476\n",
      "Name: product, dtype: float64\n",
      "----------------------------------------\n",
      "Обрабатываем регион: second_region\n",
      "Средний запас сырья (avg_predicted_reserves): 68.57703454115173\n",
      "RMSE модели: 0.8928265978121422\n",
      "Средний MSE на кросс-валидации: 0.7914314701366914\n",
      "Первые 5 предсказанных значений (y_pred): [  1.74563484 135.73089121 133.53965253  28.8445167  138.03718245]\n",
      "Первые 5 реальных значений (y_test): id\n",
      "XObi5      0.000000\n",
      "wc1b3    134.766305\n",
      "WEK62    134.766305\n",
      "1A2kd     30.132364\n",
      "YqOc2    137.945408\n",
      "Name: product, dtype: float64\n",
      "----------------------------------------\n",
      "Обрабатываем регион: third_region\n",
      "Средний запас сырья (avg_predicted_reserves): 94.93478722287514\n",
      "RMSE модели: 40.080822438088305\n",
      "Средний MSE на кросс-валидации: 1603.8488714273042\n",
      "Первые 5 предсказанных значений (y_pred): [111.54081086  66.81228885  70.40692087  63.11869004 141.16217791]\n",
      "Первые 5 реальных значений (y_test): id\n",
      "fEtM4    156.925842\n",
      "ZUTtd     31.245818\n",
      "VtpnE     48.478519\n",
      "qju6o     34.079047\n",
      "FbzYP    138.077543\n",
      "Name: product, dtype: float64\n",
      "----------------------------------------\n"
     ]
    }
   ],
   "source": [
    "# Словарь с данными по регионам\n",
    "regions = {\n",
    "    'first_region': (features_first_geo, target_first_geo),\n",
    "    'second_region': (features_second_geo, target_second_geo),\n",
    "    'third_region': (features_third_geo, target_third_geo)\n",
    "}\n",
    "\n",
    "# Вызов функции для вывода данных и метрик по регионам\n",
    "process_region_data_with_metrics(regions)"
   ]
  },
  {
   "cell_type": "markdown",
   "id": "451dba32-ab19-435f-a27d-eed6953714f6",
   "metadata": {},
   "source": [
    "**Выводы:**\n",
    "* second_geo имеет наибольшую точность предсказаний, но меньший средний запас нефти.\n",
    "* first_geo и third_geo имеют схожие высокие запасы, но модели сталкиваются с большими ошибками предсказаний, что может привести к рискам."
   ]
  },
  {
   "cell_type": "markdown",
   "id": "231e0ada-f48d-4007-b210-88bf144c9068",
   "metadata": {
    "execution": {
     "iopub.execute_input": "2024-10-24T10:49:46.245602Z",
     "iopub.status.busy": "2024-10-24T10:49:46.244597Z",
     "iopub.status.idle": "2024-10-24T10:49:46.248225Z",
     "shell.execute_reply": "2024-10-24T10:49:46.248225Z",
     "shell.execute_reply.started": "2024-10-24T10:49:46.245602Z"
    }
   },
   "source": [
    "## 3. Расчет прибыли"
   ]
  },
  {
   "cell_type": "markdown",
   "id": "ca0ca74e-29a6-48d7-ae04-c924c019dabd",
   "metadata": {},
   "source": [
    "### 3.1. Подготовка"
   ]
  },
  {
   "cell_type": "code",
   "execution_count": 39,
   "id": "6d17b642-2a36-4d5f-86e8-31bb16f51b6a",
   "metadata": {
    "execution": {
     "iopub.execute_input": "2024-10-25T08:04:03.109114Z",
     "iopub.status.busy": "2024-10-25T08:04:03.108107Z",
     "iopub.status.idle": "2024-10-25T08:04:03.671221Z",
     "shell.execute_reply": "2024-10-25T08:04:03.671221Z",
     "shell.execute_reply.started": "2024-10-25T08:04:03.108107Z"
    }
   },
   "outputs": [
    {
     "name": "stdout",
     "output_type": "stream",
     "text": [
      "Средний запас в регионе first_geo: 92.61 тыс. баррелей — недостаточно для безубыточной разработки.\n",
      "Средний запас в регионе second_geo: 68.58 тыс. баррелей — недостаточно для безубыточной разработки.\n",
      "Средний запас в регионе third_geo: 94.93 тыс. баррелей — недостаточно для безубыточной разработки.\n"
     ]
    }
   ],
   "source": [
    "# Расчёт достаточного объёма сырья для безубыточной разработки новой скважины\n",
    "sufficient_volume = TOTAL_BUDGET / (BEST_WELLS_COUNT * INCOME_FROM_ONE_UNIT)\n",
    "\n",
    "# Словарь средние запасов по регионам\n",
    "avg_reserves_list = {\n",
    "    'first_geo': m_l(features_first_geo, target_first_geo, 'first_geo')[0],  # Средний запас first_geo\n",
    "    'second_geo': m_l(features_second_geo, target_second_geo, 'second_geo')[0],  # Средний запас second_geo\n",
    "    'third_geo': m_l(features_third_geo, target_third_geo, 'third_geo')[0]  # Средний запас third_geo\n",
    "}\n",
    "\n",
    "# Вызов функции для сравнения\n",
    "compare_avg_reserves(sufficient_volume, avg_reserves_list)"
   ]
  },
  {
   "cell_type": "markdown",
   "id": "c22892a5-eefc-48fa-a94d-3f39bc7351e2",
   "metadata": {},
   "source": [
    "#### Вывод:\n",
    "* Все три региона имеют средние запасы сырья ниже уровня безубыточности (111.11 тыс. баррелей).\n",
    "* Для того чтобы избежать убытков, необходимо выбирать скважины с более высокими запасами, чем средний показатель по региону.\n",
    "* Необходимо оценить уровень прибыли и рисков убыточности"
   ]
  },
  {
   "cell_type": "markdown",
   "id": "600bc9f3-0eab-4bcf-84e1-f4ccb88c4935",
   "metadata": {},
   "source": [
    "### 3.2. Расчет рисков и прибыли для каждого регион"
   ]
  },
  {
   "cell_type": "code",
   "execution_count": 42,
   "id": "22194f9d-f74f-4f13-9ac7-5153985ab6a3",
   "metadata": {
    "execution": {
     "iopub.execute_input": "2024-10-25T08:04:03.714393Z",
     "iopub.status.busy": "2024-10-25T08:04:03.713215Z",
     "iopub.status.idle": "2024-10-25T08:04:08.752031Z",
     "shell.execute_reply": "2024-10-25T08:04:08.749976Z",
     "shell.execute_reply.started": "2024-10-25T08:04:03.713215Z"
    }
   },
   "outputs": [
    {
     "name": "stdout",
     "output_type": "stream",
     "text": [
      "Регион: first_geo\n",
      "Средняя прибыль: 615768237.8328661\n",
      "95%-ый доверительный интервал: [-1119707.796397248, 1246109887.9965713]\n",
      "Риск убытка: 2.60%\n",
      "------------------------------------------------------------------------------------------\n",
      "Регион: second_geo\n",
      "Средняя прибыль: 632747181.1855005\n",
      "95%-ый доверительный интервал: [168509583.09718925, 1140549915.6108665]\n",
      "Риск убытка: 0.20%\n",
      "------------------------------------------------------------------------------------------\n",
      "Регион: third_geo\n",
      "Средняя прибыль: 572746881.5097297\n",
      "95%-ый доверительный интервал: [-5734397.638461586, 1224829831.8475718]\n",
      "Риск убытка: 2.80%\n",
      "------------------------------------------------------------------------------------------\n"
     ]
    }
   ],
   "source": [
    "# Словарь с предсказаниями по регионам\n",
    "region_list_predicted = {\n",
    "    'first_geo': m_l(features_first_geo, target_first_geo, 'first_geo')[-2:],\n",
    "    'second_geo': m_l(features_second_geo, target_second_geo, 'second_geo')[-2:],\n",
    "    'third_geo': m_l(features_third_geo, target_third_geo, 'third_geo')[-2:]\n",
    "}\n",
    "\n",
    "# Вызов функции для расчета прибыли и вывода результатов\n",
    "revenue_all_region_bootstrap(region_list_predicted)\n"
   ]
  },
  {
   "cell_type": "markdown",
   "id": "f8cad666-c683-4597-80f7-664607b123ab",
   "metadata": {},
   "source": [
    "**Вывод:**\n",
    "* Наиболее выгодным и наименее рискованным регионом для разработки нефтяных скважин является второй регион (second_geo), так как он сочетает самую высокую среднюю прибыль с низким риском убытка (0.20%), что удовлетворяет условиям проекта."
   ]
  },
  {
   "cell_type": "markdown",
   "id": "aa5237c8-ea80-4052-ac29-9002e744fbcb",
   "metadata": {
    "execution": {
     "iopub.execute_input": "2024-10-25T07:55:54.125683Z",
     "iopub.status.busy": "2024-10-25T07:55:54.124685Z",
     "iopub.status.idle": "2024-10-25T07:55:54.135977Z",
     "shell.execute_reply": "2024-10-25T07:55:54.134970Z",
     "shell.execute_reply.started": "2024-10-25T07:55:54.125683Z"
    }
   },
   "source": [
    "## Общий вывод по исследованию\n",
    "\n",
    "В ходе исследования была разработана модель машинного обучения для определения наиболее прибыльного региона для добычи нефти. Проведенный анализ с использованием метода Bootstrap позволил сделать следующие выводы:\n",
    "\n",
    "**Рекомендованный регион для разработки — регион 2:**\n",
    "- Низкий риск убытков: всего 0.2% (по сравнению с 2.6% в первом регионе и 2.8% в третьем).\n",
    "- Ожидаемая средняя прибыль составляет около 632 млн (против 615 млн в первом регионе и 572 млн в третьем).\n",
    "\n",
    "**Этапы исследования**\n",
    "\n",
    "1. **Загрузка и подготовка данных:**\n",
    "   - Выполнен импорт необходимых библиотек и загрузка трех датасетов: `first_geo`, `second_geo`, `third_geo`.\n",
    "   - Реализована функция `get_info` для проверки данных: проверены типы данных, выявлены и удалены неявные дубликаты, а также подтверждено отсутствие пропусков и явных дубликатов.\n",
    "   - Из столбца `id` удалены неявные дубликаты: 10 строк из `first_geo`, 4 строк из `second_geo` и 4 строк из `third_geo`.\n",
    "\n",
    "2. **Подготовка данных для обучения модели:**\n",
    "   - Выделены признаки и целевая переменная, а также выполнена индексация данных.\n",
    "\n",
    "3. **Обучение и проверка модели:**\n",
    "   - Создан пайплан для обучения модели `LinearRegression`, которая:\n",
    "     - Исключает ненужные столбцы, разделяет данные на обучающую и валидационную выборки (75:25) и применяет стандартизацию количественных признаков.\n",
    "     - Обучает модель и предсказывает средний объем нефти для каждого региона, выводит средний запас и RMSE.\n",
    "   - Модель на втором регионе показала лучшую точность (RMSE: 0.89).\n",
    "   - Наибольший средний запас нефти наблюдается в третьем регионе: 94.93 тыс. баррелей.\n",
    "\n",
    "4. **Подготовка к расчету прибыли:**\n",
    "   - Установлены ключевые константы исследования и рассчитан порог безубыточности: 111.11 тыс. баррелей.\n",
    "   - Средние запасы сырья для всех регионов ниже порога безубыточности, что указывает на потенциальные риски.\n",
    "   - Создана функция `revenue_all_region_bootstrap` для расчета прибыли от лучших скважин.\n",
    "\n",
    "5. **Расчет прибыли и анализ рисков:**\n",
    "   - Проведен Bootstrap-анализ: создано 1000 выборок по 500 скважин для оценки метрик.\n",
    "   - **Рекомендация — второй регион:** его показатели:\n",
    "     - Средняя прибыль: 632 млн рублей.\n",
    "     - Доверительный интервал: от 168 до 1140 млн рублей.\n",
    "     - Риск убытка: 0.2%.\n",
    "\n"
   ]
  },
  {
   "cell_type": "code",
   "execution_count": null,
   "id": "91c4217b-ccf2-4d2a-86e9-16e0193d089a",
   "metadata": {},
   "outputs": [],
   "source": []
  }
 ],
 "metadata": {
  "kernelspec": {
   "display_name": "Python 3 (ipykernel)",
   "language": "python",
   "name": "python3"
  },
  "language_info": {
   "codemirror_mode": {
    "name": "ipython",
    "version": 3
   },
   "file_extension": ".py",
   "mimetype": "text/x-python",
   "name": "python",
   "nbconvert_exporter": "python",
   "pygments_lexer": "ipython3",
   "version": "3.12.7"
  }
 },
 "nbformat": 4,
 "nbformat_minor": 5
}
